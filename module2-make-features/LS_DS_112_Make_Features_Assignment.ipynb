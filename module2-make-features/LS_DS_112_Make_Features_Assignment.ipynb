{
  "nbformat": 4,
  "nbformat_minor": 0,
  "metadata": {
    "colab": {
      "name": "LS_DS_112_Make_Features_Assignment.ipynb",
      "provenance": [],
      "collapsed_sections": []
    },
    "kernelspec": {
      "display_name": "Python 3",
      "language": "python",
      "name": "python3"
    },
    "language_info": {
      "codemirror_mode": {
        "name": "ipython",
        "version": 3
      },
      "file_extension": ".py",
      "mimetype": "text/x-python",
      "name": "python",
      "nbconvert_exporter": "python",
      "pygments_lexer": "ipython3",
      "version": "3.7.1"
    }
  },
  "cells": [
    {
      "cell_type": "markdown",
      "metadata": {
        "id": "SnDJqBLi0FYW",
        "colab_type": "text"
      },
      "source": [
        "<img align=\"left\" src=\"https://lever-client-logos.s3.amazonaws.com/864372b1-534c-480e-acd5-9711f850815c-1524247202159.png\" width=200> "
      ]
    },
    {
      "cell_type": "markdown",
      "metadata": {
        "id": "W5GjI1z5yNG4",
        "colab_type": "text"
      },
      "source": [
        "# Assignment:\n",
        "\n",
        "- Replicate the lesson code.\n",
        "\n",
        " - This means that if you haven't followed along already, type out the things that we did in class. Forcing your fingers to hit each key will help you internalize the syntax of what we're doing. Make sure you understand each line of code that you're writing, google things that you don't fully understand.\n",
        " - [Lambda Learning Method for DS - By Ryan Herr](https://docs.google.com/document/d/1ubOw9B3Hfip27hF2ZFnW3a3z9xAgrUDRReOEo-FHCVs/edit?usp=sharing)\n",
        "- Convert the `term` column from string to integer.\n",
        "- Make a column named `loan_status_is_great`. It should contain the integer 1 if `loan_status` is \"Current\" or \"Fully Paid.\" Else it should contain the integer 0.\n",
        "- Make `last_pymnt_d_month` and `last_pymnt_d_year` columns."
      ]
    },
    {
      "cell_type": "code",
      "metadata": {
        "id": "NL9lQ6jz4pOH",
        "colab_type": "code",
        "colab": {}
      },
      "source": [
        "##### Begin Working Here #####\n",
        "# Import necessary packages and set display options for Dataset.\n",
        "\n",
        "import pandas as pd\n",
        "import numpy as np\n",
        "\n",
        "pd.set_option('display.max_columns', 100)\n",
        "pd.set_option('display.max_rows', 1461)"
      ],
      "execution_count": 1,
      "outputs": []
    },
    {
      "cell_type": "code",
      "metadata": {
        "id": "bYblAS4Y4tCQ",
        "colab_type": "code",
        "colab": {
          "base_uri": "https://localhost:8080/",
          "height": 270
        },
        "outputId": "3a7d36cc-5867-4fa0-b827-8d8f12e8ef05"
      },
      "source": [
        "# Fetch LendingClub Data via BASH command\n",
        "!wget 'https://resources.lendingclub.com/LoanStats_2018Q4.csv.zip'\n",
        "\n",
        "# Unzip dataset to CSV\n",
        "!unzip LoanStats_2018Q4.csv.zip"
      ],
      "execution_count": null,
      "outputs": [
        {
          "output_type": "stream",
          "text": [
            "--2020-09-05 02:07:55--  https://resources.lendingclub.com/LoanStats_2018Q4.csv.zip\n",
            "Resolving resources.lendingclub.com (resources.lendingclub.com)... 54.148.13.215, 35.161.89.82, 54.244.115.45\n",
            "Connecting to resources.lendingclub.com (resources.lendingclub.com)|54.148.13.215|:443... connected.\n",
            "HTTP request sent, awaiting response... 200 OK\n",
            "Length: unspecified [application/zip]\n",
            "Saving to: ‘LoanStats_2018Q4.csv.zip.1’\n",
            "\n",
            "LoanStats_2018Q4.cs     [            <=>     ]  22.28M  2.23MB/s    in 10s     \n",
            "\n",
            "2020-09-05 02:08:06 (2.21 MB/s) - ‘LoanStats_2018Q4.csv.zip.1’ saved [23360898]\n",
            "\n",
            "Archive:  LoanStats_2018Q4.csv.zip\n",
            "replace LoanStats_2018Q4.csv? [y]es, [n]o, [A]ll, [N]one, [r]ename: "
          ],
          "name": "stdout"
        }
      ]
    },
    {
      "cell_type": "code",
      "metadata": {
        "id": "V2O-ihWT5UZM",
        "colab_type": "code",
        "colab": {}
      },
      "source": [
        "# Read in the unzipped CSV file to Pandas\n",
        "df = pd.read_csv('LoanStats_2018Q4.csv');\n",
        "\n",
        "# Examine the head to insure proper formating\n",
        "df.head(10)"
      ],
      "execution_count": null,
      "outputs": []
    },
    {
      "cell_type": "markdown",
      "metadata": {
        "id": "hLzxQqtV5yXs",
        "colab_type": "text"
      },
      "source": [
        "##### Looks like the first line is causing some issues with NaN values! Let's clean this up by skipping that first row with the URL!"
      ]
    },
    {
      "cell_type": "code",
      "metadata": {
        "id": "AJ4cqben7EbL",
        "colab_type": "code",
        "colab": {}
      },
      "source": [
        "# Assign skiprow to ignore the URL\n",
        "df = pd.read_csv('LoanStats_2018Q4.csv', skiprows=1)\n",
        "\n",
        "df.head()"
      ],
      "execution_count": null,
      "outputs": []
    },
    {
      "cell_type": "markdown",
      "metadata": {
        "id": "6f_57d177P7D",
        "colab_type": "text"
      },
      "source": [
        "##### Looks better! Now we can take a look at these NaN values!"
      ]
    },
    {
      "cell_type": "code",
      "metadata": {
        "id": "lAyL3HFa7aV2",
        "colab_type": "code",
        "colab": {}
      },
      "source": [
        "df.isnull().sum().sort_values()"
      ],
      "execution_count": null,
      "outputs": []
    },
    {
      "cell_type": "markdown",
      "metadata": {
        "id": "J7OoC_Q57gX3",
        "colab_type": "text"
      },
      "source": [
        "##### Well that's odd....we have a TON of 2's...let's take a look at the tail and see what's going on."
      ]
    },
    {
      "cell_type": "code",
      "metadata": {
        "id": "TXRAYQqA7l5L",
        "colab_type": "code",
        "colab": {}
      },
      "source": [
        "df.tail()"
      ],
      "execution_count": null,
      "outputs": []
    },
    {
      "cell_type": "markdown",
      "metadata": {
        "id": "M13bLCdM7n_6",
        "colab_type": "text"
      },
      "source": [
        "##### Looks like we have some extra values in the last two rows as well. Let's clean this up!"
      ]
    },
    {
      "cell_type": "code",
      "metadata": {
        "id": "miI8Mapm6F4e",
        "colab_type": "code",
        "colab": {}
      },
      "source": [
        "# Reload dataframe so that the first line is skipped and the last two lines are skipped.\n",
        "# We will also pass the 'engine=python' argument to avoid the C error.\n",
        "df = pd.read_csv('LoanStats_2018Q4.csv', header=1, skipfooter=2, engine='python')\n",
        "\n",
        "df.tail(5)"
      ],
      "execution_count": null,
      "outputs": []
    },
    {
      "cell_type": "markdown",
      "metadata": {
        "id": "3xiTQX0d78_J",
        "colab_type": "text"
      },
      "source": [
        "##### Now that we have our table formatted properly we can get to work! Let's start by dropping any \"unnecessary\" values from our dataset that are equal to NaN!"
      ]
    },
    {
      "cell_type": "code",
      "metadata": {
        "id": "KQrDizPd8I_-",
        "colab_type": "code",
        "colab": {}
      },
      "source": [
        "df = df.drop(['id', 'member_id', 'url', 'desc', 'settlement_status', \n",
        "              'settlement_amount', 'settlement_date', 'settlement_term', \n",
        "              'settlement_percentage', 'debt_settlement_flag_date'], axis=1)"
      ],
      "execution_count": null,
      "outputs": []
    },
    {
      "cell_type": "code",
      "metadata": {
        "id": "iuHGz6o59CES",
        "colab_type": "code",
        "colab": {}
      },
      "source": [
        "df.head()"
      ],
      "execution_count": null,
      "outputs": []
    },
    {
      "cell_type": "markdown",
      "metadata": {
        "id": "EdjjOddW9e5d",
        "colab_type": "text"
      },
      "source": [
        "##### Now we'll take a look at the 'int_rate' column and see if we can clean it up. It shows a '%' sign now which indicates that this is a string value."
      ]
    },
    {
      "cell_type": "code",
      "metadata": {
        "id": "PgnnTZLE9Tx1",
        "colab_type": "code",
        "colab": {}
      },
      "source": [
        "# Examine 'int_rate'\n",
        "df['int_rate'].head(10)"
      ],
      "execution_count": null,
      "outputs": []
    },
    {
      "cell_type": "markdown",
      "metadata": {
        "id": "oaZ18a8M9wHu",
        "colab_type": "text"
      },
      "source": [
        "##### Looks like we were right! Let's drop any whitespace and the '%' from this column!"
      ]
    },
    {
      "cell_type": "code",
      "metadata": {
        "id": "yRAdl4iH-FBw",
        "colab_type": "code",
        "colab": {}
      },
      "source": [
        "# First we will define a function to make our lives easier\n",
        "def intrate_to_float(cell_contents):\n",
        "  return float(cell_contents.strip().strip('%'))\n",
        "\n",
        "# Now we will use .apply to call the function on our column\n",
        "df['int_rate'] = df['int_rate'].apply(intrate_to_float)"
      ],
      "execution_count": null,
      "outputs": []
    },
    {
      "cell_type": "markdown",
      "metadata": {
        "id": "meU3N1w3_8ah",
        "colab_type": "text"
      },
      "source": [
        "##### Looks like we want it to! Let's override the previous column with this new list!"
      ]
    },
    {
      "cell_type": "code",
      "metadata": {
        "id": "XU3_q_jfACE6",
        "colab_type": "code",
        "colab": {}
      },
      "source": [
        "# Assign our new list over the 'int_rate' column\n",
        "df['int_rate'] = pd.Series(cleanedint)"
      ],
      "execution_count": null,
      "outputs": []
    },
    {
      "cell_type": "code",
      "metadata": {
        "id": "a29WMPoGANNf",
        "colab_type": "code",
        "colab": {}
      },
      "source": [
        "df.head()"
      ],
      "execution_count": null,
      "outputs": []
    },
    {
      "cell_type": "markdown",
      "metadata": {
        "id": "coXY8dYuAUYl",
        "colab_type": "text"
      },
      "source": [
        "##### Looks good! But let's check with dtype to be sure."
      ]
    },
    {
      "cell_type": "code",
      "metadata": {
        "id": "t7SjlwcCAkOq",
        "colab_type": "code",
        "colab": {}
      },
      "source": [
        "# Call dtypes on 'int_rate' to ensure float\n",
        "df['int_rate'].dtypes"
      ],
      "execution_count": null,
      "outputs": []
    },
    {
      "cell_type": "markdown",
      "metadata": {
        "colab_type": "text",
        "id": "L8k0LiHmo5EU"
      },
      "source": [
        "# Stretch Goals\n",
        "\n",
        "You can do more with the LendingClub or Instacart datasets.\n",
        "\n",
        "LendingClub options:\n",
        "- There's one other column in the dataframe with percent signs. Remove them and convert to floats. You'll need to handle missing values.\n",
        "- Modify the `emp_title` column to replace titles with 'Other' if the title is not in the top 20. \n",
        "- Take initiatve and work on your own ideas!\n",
        "\n",
        "Instacart options:\n",
        "- Read [Instacart Market Basket Analysis, Winner's Interview: 2nd place, Kazuki Onodera](http://blog.kaggle.com/2017/09/21/instacart-market-basket-analysis-winners-interview-2nd-place-kazuki-onodera/), especially the **Feature Engineering** section. (Can you choose one feature from his bulleted lists, and try to engineer it with pandas code?)\n",
        "- Read and replicate parts of [Simple Exploration Notebook - Instacart](https://www.kaggle.com/sudalairajkumar/simple-exploration-notebook-instacart). (It's the Python Notebook with the most upvotes for this Kaggle competition.)\n",
        "- Take initiative and work on your own ideas!"
      ]
    },
    {
      "cell_type": "markdown",
      "metadata": {
        "colab_type": "text",
        "id": "0_7PXF7lpEXg"
      },
      "source": [
        "You can uncomment and run the cells below to re-download and extract the Instacart data"
      ]
    },
    {
      "cell_type": "code",
      "metadata": {
        "id": "urIePNa0yNG6",
        "colab_type": "code",
        "colab": {}
      },
      "source": [
        "# !wget https://s3.amazonaws.com/instacart-datasets/instacart_online_grocery_shopping_2017_05_01.tar.gz"
      ],
      "execution_count": null,
      "outputs": []
    },
    {
      "cell_type": "code",
      "metadata": {
        "id": "X9zEyu-uyNG8",
        "colab_type": "code",
        "colab": {}
      },
      "source": [
        "# !tar --gunzip --extract --verbose --file=instacart_online_grocery_shopping_2017_05_01.tar.gz"
      ],
      "execution_count": null,
      "outputs": []
    },
    {
      "cell_type": "code",
      "metadata": {
        "id": "Y3IqrhlpyNG-",
        "colab_type": "code",
        "colab": {}
      },
      "source": [
        "# %cd instacart_2017_05_01"
      ],
      "execution_count": null,
      "outputs": []
    }
  ]
}